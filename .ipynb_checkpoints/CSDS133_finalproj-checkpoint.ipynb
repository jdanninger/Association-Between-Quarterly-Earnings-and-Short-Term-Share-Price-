{
 "cells": [
  {
   "cell_type": "markdown",
   "id": "2ab5c46e",
   "metadata": {},
   "source": [
    "# IF R^2 IS NEGATIVE, MEANS THAT ITS A WORSE FIT THAN A HORIZONTAL LINE"
   ]
  },
  {
   "cell_type": "markdown",
   "id": "9d8d71e3",
   "metadata": {},
   "source": [
    "## Import stock price info\n",
    "- create a difference in stock price table (just for most recent before for now)"
   ]
  },
  {
   "cell_type": "code",
   "execution_count": 1,
   "id": "145716b9",
   "metadata": {},
   "outputs": [
    {
     "data": {
      "text/html": [
       "<div>\n",
       "<style scoped>\n",
       "    .dataframe tbody tr th:only-of-type {\n",
       "        vertical-align: middle;\n",
       "    }\n",
       "\n",
       "    .dataframe tbody tr th {\n",
       "        vertical-align: top;\n",
       "    }\n",
       "\n",
       "    .dataframe thead th {\n",
       "        text-align: right;\n",
       "    }\n",
       "</style>\n",
       "<table border=\"1\" class=\"dataframe\">\n",
       "  <thead>\n",
       "    <tr style=\"text-align: right;\">\n",
       "      <th></th>\n",
       "      <th>price change(%)</th>\n",
       "    </tr>\n",
       "  </thead>\n",
       "  <tbody>\n",
       "    <tr>\n",
       "      <th>AAPL</th>\n",
       "      <td>6.977762</td>\n",
       "    </tr>\n",
       "    <tr>\n",
       "      <th>MSFT</th>\n",
       "      <td>2.849317</td>\n",
       "    </tr>\n",
       "    <tr>\n",
       "      <th>GOOG</th>\n",
       "      <td>7.367353</td>\n",
       "    </tr>\n",
       "    <tr>\n",
       "      <th>AMZN</th>\n",
       "      <td>13.535914</td>\n",
       "    </tr>\n",
       "    <tr>\n",
       "      <th>TSLA</th>\n",
       "      <td>3.231684</td>\n",
       "    </tr>\n",
       "    <tr>\n",
       "      <th>BRK-A</th>\n",
       "      <td>2.149706</td>\n",
       "    </tr>\n",
       "    <tr>\n",
       "      <th>FB</th>\n",
       "      <td>-26.390095</td>\n",
       "    </tr>\n",
       "    <tr>\n",
       "      <th>UNH</th>\n",
       "      <td>-0.138362</td>\n",
       "    </tr>\n",
       "    <tr>\n",
       "      <th>NVDA</th>\n",
       "      <td>-7.559117</td>\n",
       "    </tr>\n",
       "    <tr>\n",
       "      <th>JNJ</th>\n",
       "      <td>0.442428</td>\n",
       "    </tr>\n",
       "    <tr>\n",
       "      <th>V</th>\n",
       "      <td>10.599089</td>\n",
       "    </tr>\n",
       "    <tr>\n",
       "      <th>WMT</th>\n",
       "      <td>-0.640838</td>\n",
       "    </tr>\n",
       "    <tr>\n",
       "      <th>PG</th>\n",
       "      <td>-0.078030</td>\n",
       "    </tr>\n",
       "    <tr>\n",
       "      <th>JPM</th>\n",
       "      <td>-0.926944</td>\n",
       "    </tr>\n",
       "    <tr>\n",
       "      <th>XOM</th>\n",
       "      <td>-0.259801</td>\n",
       "    </tr>\n",
       "    <tr>\n",
       "      <th>MA</th>\n",
       "      <td>9.123334</td>\n",
       "    </tr>\n",
       "    <tr>\n",
       "      <th>CVX</th>\n",
       "      <td>0.551264</td>\n",
       "    </tr>\n",
       "    <tr>\n",
       "      <th>HD</th>\n",
       "      <td>-2.441729</td>\n",
       "    </tr>\n",
       "    <tr>\n",
       "      <th>BAC</th>\n",
       "      <td>1.853285</td>\n",
       "    </tr>\n",
       "    <tr>\n",
       "      <th>KO</th>\n",
       "      <td>-1.775827</td>\n",
       "    </tr>\n",
       "    <tr>\n",
       "      <th>ABBV</th>\n",
       "      <td>1.522151</td>\n",
       "    </tr>\n",
       "    <tr>\n",
       "      <th>PFE</th>\n",
       "      <td>-0.444873</td>\n",
       "    </tr>\n",
       "    <tr>\n",
       "      <th>LLY</th>\n",
       "      <td>-1.037537</td>\n",
       "    </tr>\n",
       "    <tr>\n",
       "      <th>COST</th>\n",
       "      <td>-1.416375</td>\n",
       "    </tr>\n",
       "    <tr>\n",
       "      <th>AVGO</th>\n",
       "      <td>3.005541</td>\n",
       "    </tr>\n",
       "    <tr>\n",
       "      <th>PEP</th>\n",
       "      <td>0.124729</td>\n",
       "    </tr>\n",
       "    <tr>\n",
       "      <th>TMO</th>\n",
       "      <td>-1.522857</td>\n",
       "    </tr>\n",
       "    <tr>\n",
       "      <th>VZ</th>\n",
       "      <td>-3.553876</td>\n",
       "    </tr>\n",
       "    <tr>\n",
       "      <th>DIS</th>\n",
       "      <td>3.348508</td>\n",
       "    </tr>\n",
       "    <tr>\n",
       "      <th>MRK</th>\n",
       "      <td>-0.569554</td>\n",
       "    </tr>\n",
       "    <tr>\n",
       "      <th>CSCO</th>\n",
       "      <td>2.801845</td>\n",
       "    </tr>\n",
       "    <tr>\n",
       "      <th>ABT</th>\n",
       "      <td>0.595241</td>\n",
       "    </tr>\n",
       "    <tr>\n",
       "      <th>CMCSA</th>\n",
       "      <td>3.561770</td>\n",
       "    </tr>\n",
       "    <tr>\n",
       "      <th>ORCL</th>\n",
       "      <td>1.526412</td>\n",
       "    </tr>\n",
       "    <tr>\n",
       "      <th>NKE</th>\n",
       "      <td>2.227509</td>\n",
       "    </tr>\n",
       "    <tr>\n",
       "      <th>ADBE</th>\n",
       "      <td>-9.336481</td>\n",
       "    </tr>\n",
       "    <tr>\n",
       "      <th>DHR</th>\n",
       "      <td>-4.916616</td>\n",
       "    </tr>\n",
       "    <tr>\n",
       "      <th>INTC</th>\n",
       "      <td>-7.041979</td>\n",
       "    </tr>\n",
       "    <tr>\n",
       "      <th>MCD</th>\n",
       "      <td>2.954888</td>\n",
       "    </tr>\n",
       "    <tr>\n",
       "      <th>WFC</th>\n",
       "      <td>1.769147</td>\n",
       "    </tr>\n",
       "    <tr>\n",
       "      <th>CRM</th>\n",
       "      <td>0.718081</td>\n",
       "    </tr>\n",
       "    <tr>\n",
       "      <th>UPS</th>\n",
       "      <td>0.615546</td>\n",
       "    </tr>\n",
       "    <tr>\n",
       "      <th>BMY</th>\n",
       "      <td>1.846447</td>\n",
       "    </tr>\n",
       "    <tr>\n",
       "      <th>TMUS</th>\n",
       "      <td>10.220840</td>\n",
       "    </tr>\n",
       "    <tr>\n",
       "      <th>TXN</th>\n",
       "      <td>2.512069</td>\n",
       "    </tr>\n",
       "    <tr>\n",
       "      <th>PM</th>\n",
       "      <td>-2.255849</td>\n",
       "    </tr>\n",
       "    <tr>\n",
       "      <th>RTX</th>\n",
       "      <td>-1.472697</td>\n",
       "    </tr>\n",
       "    <tr>\n",
       "      <th>QCOM</th>\n",
       "      <td>-4.835280</td>\n",
       "    </tr>\n",
       "    <tr>\n",
       "      <th>MS</th>\n",
       "      <td>2.029260</td>\n",
       "    </tr>\n",
       "    <tr>\n",
       "      <th>UNP</th>\n",
       "      <td>-4.132566</td>\n",
       "    </tr>\n",
       "  </tbody>\n",
       "</table>\n",
       "</div>"
      ],
      "text/plain": [
       "       price change(%)\n",
       "AAPL          6.977762\n",
       "MSFT          2.849317\n",
       "GOOG          7.367353\n",
       "AMZN         13.535914\n",
       "TSLA          3.231684\n",
       "BRK-A         2.149706\n",
       "FB          -26.390095\n",
       "UNH          -0.138362\n",
       "NVDA         -7.559117\n",
       "JNJ           0.442428\n",
       "V            10.599089\n",
       "WMT          -0.640838\n",
       "PG           -0.078030\n",
       "JPM          -0.926944\n",
       "XOM          -0.259801\n",
       "MA            9.123334\n",
       "CVX           0.551264\n",
       "HD           -2.441729\n",
       "BAC           1.853285\n",
       "KO           -1.775827\n",
       "ABBV          1.522151\n",
       "PFE          -0.444873\n",
       "LLY          -1.037537\n",
       "COST         -1.416375\n",
       "AVGO          3.005541\n",
       "PEP           0.124729\n",
       "TMO          -1.522857\n",
       "VZ           -3.553876\n",
       "DIS           3.348508\n",
       "MRK          -0.569554\n",
       "CSCO          2.801845\n",
       "ABT           0.595241\n",
       "CMCSA         3.561770\n",
       "ORCL          1.526412\n",
       "NKE           2.227509\n",
       "ADBE         -9.336481\n",
       "DHR          -4.916616\n",
       "INTC         -7.041979\n",
       "MCD           2.954888\n",
       "WFC           1.769147\n",
       "CRM           0.718081\n",
       "UPS           0.615546\n",
       "BMY           1.846447\n",
       "TMUS         10.220840\n",
       "TXN           2.512069\n",
       "PM           -2.255849\n",
       "RTX          -1.472697\n",
       "QCOM         -4.835280\n",
       "MS            2.029260\n",
       "UNP          -4.132566"
      ]
     },
     "execution_count": 1,
     "metadata": {},
     "output_type": "execute_result"
    }
   ],
   "source": [
    "import pandas as pd\n",
    "prices = pd.read_csv(r'stockPrice.csv')\n",
    "pricedif1 = {'price change(%)': ((prices.iloc[:, 2] - prices.iloc[:, 1])/prices.iloc[:, 1])*100}\n",
    "pricedif1 = pd.DataFrame.from_dict(pricedif1)\n",
    "pricedif1"
   ]
  },
  {
   "cell_type": "markdown",
   "id": "6fb08f1a",
   "metadata": {},
   "source": [
    "# Revenue\n",
    "- results are very different for each run through"
   ]
  },
  {
   "cell_type": "code",
   "execution_count": 4,
   "id": "a79c9010",
   "metadata": {},
   "outputs": [
    {
     "data": {
      "text/html": [
       "<div>\n",
       "<style scoped>\n",
       "    .dataframe tbody tr th:only-of-type {\n",
       "        vertical-align: middle;\n",
       "    }\n",
       "\n",
       "    .dataframe tbody tr th {\n",
       "        vertical-align: top;\n",
       "    }\n",
       "\n",
       "    .dataframe thead th {\n",
       "        text-align: right;\n",
       "    }\n",
       "</style>\n",
       "<table border=\"1\" class=\"dataframe\">\n",
       "  <thead>\n",
       "    <tr style=\"text-align: right;\">\n",
       "      <th></th>\n",
       "      <th>rev change %</th>\n",
       "      <th>price change(%)</th>\n",
       "    </tr>\n",
       "  </thead>\n",
       "  <tbody>\n",
       "    <tr>\n",
       "      <th>AAPL</th>\n",
       "      <td>68.507615</td>\n",
       "      <td>6.977762</td>\n",
       "    </tr>\n",
       "    <tr>\n",
       "      <th>MSFT</th>\n",
       "      <td>-8.485735</td>\n",
       "      <td>2.849317</td>\n",
       "    </tr>\n",
       "    <tr>\n",
       "      <th>GOOG</th>\n",
       "      <td>9.009294</td>\n",
       "      <td>7.367353</td>\n",
       "    </tr>\n",
       "    <tr>\n",
       "      <th>AMZN</th>\n",
       "      <td>353.833967</td>\n",
       "      <td>13.535914</td>\n",
       "    </tr>\n",
       "    <tr>\n",
       "      <th>TSLA</th>\n",
       "      <td>41.681261</td>\n",
       "      <td>3.231684</td>\n",
       "    </tr>\n",
       "    <tr>\n",
       "      <th>BRK-A</th>\n",
       "      <td>-63.180750</td>\n",
       "      <td>2.149706</td>\n",
       "    </tr>\n",
       "    <tr>\n",
       "      <th>FB</th>\n",
       "      <td>11.866435</td>\n",
       "      <td>-26.390095</td>\n",
       "    </tr>\n",
       "    <tr>\n",
       "      <th>UNH</th>\n",
       "      <td>-4.219409</td>\n",
       "      <td>-0.138362</td>\n",
       "    </tr>\n",
       "    <tr>\n",
       "      <th>NVDA</th>\n",
       "      <td>3.791070</td>\n",
       "      <td>-7.559117</td>\n",
       "    </tr>\n",
       "    <tr>\n",
       "      <th>JNJ</th>\n",
       "      <td>29.151895</td>\n",
       "      <td>0.442428</td>\n",
       "    </tr>\n",
       "    <tr>\n",
       "      <th>V</th>\n",
       "      <td>10.505281</td>\n",
       "      <td>10.599089</td>\n",
       "    </tr>\n",
       "    <tr>\n",
       "      <th>WMT</th>\n",
       "      <td>14.718196</td>\n",
       "      <td>-0.640838</td>\n",
       "    </tr>\n",
       "    <tr>\n",
       "      <th>PG</th>\n",
       "      <td>2.746165</td>\n",
       "      <td>-0.078030</td>\n",
       "    </tr>\n",
       "    <tr>\n",
       "      <th>JPM</th>\n",
       "      <td>-11.594977</td>\n",
       "      <td>-0.926944</td>\n",
       "    </tr>\n",
       "    <tr>\n",
       "      <th>XOM</th>\n",
       "      <td>31.407407</td>\n",
       "      <td>-0.259801</td>\n",
       "    </tr>\n",
       "    <tr>\n",
       "      <th>MA</th>\n",
       "      <td>-1.449876</td>\n",
       "      <td>9.123334</td>\n",
       "    </tr>\n",
       "    <tr>\n",
       "      <th>CVX</th>\n",
       "      <td>-17.280314</td>\n",
       "      <td>0.551264</td>\n",
       "    </tr>\n",
       "    <tr>\n",
       "      <th>HD</th>\n",
       "      <td>-14.104431</td>\n",
       "      <td>-2.441729</td>\n",
       "    </tr>\n",
       "    <tr>\n",
       "      <th>BAC</th>\n",
       "      <td>-6.707989</td>\n",
       "      <td>1.853285</td>\n",
       "    </tr>\n",
       "    <tr>\n",
       "      <th>KO</th>\n",
       "      <td>-6.436956</td>\n",
       "      <td>-1.775827</td>\n",
       "    </tr>\n",
       "    <tr>\n",
       "      <th>ABBV</th>\n",
       "      <td>28.055731</td>\n",
       "      <td>1.522151</td>\n",
       "    </tr>\n",
       "    <tr>\n",
       "      <th>PFE</th>\n",
       "      <td>46.431781</td>\n",
       "      <td>-0.444873</td>\n",
       "    </tr>\n",
       "    <tr>\n",
       "      <th>LLY</th>\n",
       "      <td>-20.148180</td>\n",
       "      <td>-1.037537</td>\n",
       "    </tr>\n",
       "    <tr>\n",
       "      <th>COST</th>\n",
       "      <td>-20.718563</td>\n",
       "      <td>-1.416375</td>\n",
       "    </tr>\n",
       "    <tr>\n",
       "      <th>AVGO</th>\n",
       "      <td>6.215316</td>\n",
       "      <td>3.005541</td>\n",
       "    </tr>\n",
       "    <tr>\n",
       "      <th>PEP</th>\n",
       "      <td>-5.682782</td>\n",
       "      <td>0.124729</td>\n",
       "    </tr>\n",
       "    <tr>\n",
       "      <th>TMO</th>\n",
       "      <td>-12.828601</td>\n",
       "      <td>-1.522857</td>\n",
       "    </tr>\n",
       "    <tr>\n",
       "      <th>VZ</th>\n",
       "      <td>10.465517</td>\n",
       "      <td>-3.553876</td>\n",
       "    </tr>\n",
       "    <tr>\n",
       "      <th>DIS</th>\n",
       "      <td>-82.679739</td>\n",
       "      <td>3.348508</td>\n",
       "    </tr>\n",
       "    <tr>\n",
       "      <th>MRK</th>\n",
       "      <td>195.598706</td>\n",
       "      <td>-0.569554</td>\n",
       "    </tr>\n",
       "    <tr>\n",
       "      <th>CSCO</th>\n",
       "      <td>-0.963775</td>\n",
       "      <td>2.801845</td>\n",
       "    </tr>\n",
       "    <tr>\n",
       "      <th>ABT</th>\n",
       "      <td>76.689189</td>\n",
       "      <td>0.595241</td>\n",
       "    </tr>\n",
       "    <tr>\n",
       "      <th>CMCSA</th>\n",
       "      <td>7.945425</td>\n",
       "      <td>3.561770</td>\n",
       "    </tr>\n",
       "    <tr>\n",
       "      <th>ORCL</th>\n",
       "      <td>-150.752951</td>\n",
       "      <td>1.526412</td>\n",
       "    </tr>\n",
       "    <tr>\n",
       "      <th>NKE</th>\n",
       "      <td>-28.655283</td>\n",
       "      <td>2.227509</td>\n",
       "    </tr>\n",
       "    <tr>\n",
       "      <th>ADBE</th>\n",
       "      <td>1.732673</td>\n",
       "      <td>-9.336481</td>\n",
       "    </tr>\n",
       "    <tr>\n",
       "      <th>DHR</th>\n",
       "      <td>56.401074</td>\n",
       "      <td>-4.916616</td>\n",
       "    </tr>\n",
       "    <tr>\n",
       "      <th>INTC</th>\n",
       "      <td>-32.243881</td>\n",
       "      <td>-7.041979</td>\n",
       "    </tr>\n",
       "    <tr>\n",
       "      <th>MCD</th>\n",
       "      <td>-23.773199</td>\n",
       "      <td>2.954888</td>\n",
       "    </tr>\n",
       "    <tr>\n",
       "      <th>WFC</th>\n",
       "      <td>-16.646352</td>\n",
       "      <td>1.769147</td>\n",
       "    </tr>\n",
       "    <tr>\n",
       "      <th>CRM</th>\n",
       "      <td>-12.523364</td>\n",
       "      <td>0.718081</td>\n",
       "    </tr>\n",
       "    <tr>\n",
       "      <th>UPS</th>\n",
       "      <td>-12.967115</td>\n",
       "      <td>0.615546</td>\n",
       "    </tr>\n",
       "    <tr>\n",
       "      <th>BMY</th>\n",
       "      <td>53.428202</td>\n",
       "      <td>1.846447</td>\n",
       "    </tr>\n",
       "    <tr>\n",
       "      <th>TMUS</th>\n",
       "      <td>-38.929088</td>\n",
       "      <td>10.220840</td>\n",
       "    </tr>\n",
       "    <tr>\n",
       "      <th>TXN</th>\n",
       "      <td>9.803922</td>\n",
       "      <td>2.512069</td>\n",
       "    </tr>\n",
       "    <tr>\n",
       "      <th>PM</th>\n",
       "      <td>11.680517</td>\n",
       "      <td>-2.255849</td>\n",
       "    </tr>\n",
       "    <tr>\n",
       "      <th>RTX</th>\n",
       "      <td>34.980620</td>\n",
       "      <td>-1.472697</td>\n",
       "    </tr>\n",
       "    <tr>\n",
       "      <th>QCOM</th>\n",
       "      <td>21.479628</td>\n",
       "      <td>-4.835280</td>\n",
       "    </tr>\n",
       "    <tr>\n",
       "      <th>MS</th>\n",
       "      <td>0.223214</td>\n",
       "      <td>2.029260</td>\n",
       "    </tr>\n",
       "    <tr>\n",
       "      <th>UNP</th>\n",
       "      <td>2.271369</td>\n",
       "      <td>-4.132566</td>\n",
       "    </tr>\n",
       "  </tbody>\n",
       "</table>\n",
       "</div>"
      ],
      "text/plain": [
       "       rev change %  price change(%)\n",
       "AAPL      68.507615         6.977762\n",
       "MSFT      -8.485735         2.849317\n",
       "GOOG       9.009294         7.367353\n",
       "AMZN     353.833967        13.535914\n",
       "TSLA      41.681261         3.231684\n",
       "BRK-A    -63.180750         2.149706\n",
       "FB        11.866435       -26.390095\n",
       "UNH       -4.219409        -0.138362\n",
       "NVDA       3.791070        -7.559117\n",
       "JNJ       29.151895         0.442428\n",
       "V         10.505281        10.599089\n",
       "WMT       14.718196        -0.640838\n",
       "PG         2.746165        -0.078030\n",
       "JPM      -11.594977        -0.926944\n",
       "XOM       31.407407        -0.259801\n",
       "MA        -1.449876         9.123334\n",
       "CVX      -17.280314         0.551264\n",
       "HD       -14.104431        -2.441729\n",
       "BAC       -6.707989         1.853285\n",
       "KO        -6.436956        -1.775827\n",
       "ABBV      28.055731         1.522151\n",
       "PFE       46.431781        -0.444873\n",
       "LLY      -20.148180        -1.037537\n",
       "COST     -20.718563        -1.416375\n",
       "AVGO       6.215316         3.005541\n",
       "PEP       -5.682782         0.124729\n",
       "TMO      -12.828601        -1.522857\n",
       "VZ        10.465517        -3.553876\n",
       "DIS      -82.679739         3.348508\n",
       "MRK      195.598706        -0.569554\n",
       "CSCO      -0.963775         2.801845\n",
       "ABT       76.689189         0.595241\n",
       "CMCSA      7.945425         3.561770\n",
       "ORCL    -150.752951         1.526412\n",
       "NKE      -28.655283         2.227509\n",
       "ADBE       1.732673        -9.336481\n",
       "DHR       56.401074        -4.916616\n",
       "INTC     -32.243881        -7.041979\n",
       "MCD      -23.773199         2.954888\n",
       "WFC      -16.646352         1.769147\n",
       "CRM      -12.523364         0.718081\n",
       "UPS      -12.967115         0.615546\n",
       "BMY       53.428202         1.846447\n",
       "TMUS     -38.929088        10.220840\n",
       "TXN        9.803922         2.512069\n",
       "PM        11.680517        -2.255849\n",
       "RTX       34.980620        -1.472697\n",
       "QCOM      21.479628        -4.835280\n",
       "MS         0.223214         2.029260\n",
       "UNP        2.271369        -4.132566"
      ]
     },
     "execution_count": 4,
     "metadata": {},
     "output_type": "execute_result"
    }
   ],
   "source": [
    "rev = pd.read_csv(r'revenue.csv')\n",
    "revdiff = {'rev change %': ((rev.iloc[:, 1] - rev.iloc[:, 2])/rev.iloc[:, 2])*100}\n",
    "revdata = pd.DataFrame.from_dict(revdiff).join(pricedif1)\n",
    "revdata\n",
    "\n"
   ]
  },
  {
   "cell_type": "code",
   "execution_count": 5,
   "id": "49dfdd42",
   "metadata": {},
   "outputs": [
    {
     "data": {
      "image/png": "[encoded data removed]",
      "text/plain": [
       "<Figure size 432x288 with 1 Axes>"
      ]
     },
     "metadata": {
      "needs_background": "light"
     },
     "output_type": "display_data"
    },
    {
     "name": "stdout",
     "output_type": "stream",
     "text": [
      "Coefficients: \n",
      " [[-0.01217011]]\n",
      "Mean squared error: 39.40\n",
      "Coefficient of determination: -0.30\n"
     ]
    },
    {
     "name": "stderr",
     "output_type": "stream",
     "text": [
      "D:\\anaconda\\lib\\site-packages\\numpy\\core\\_asarray.py:102: VisibleDeprecationWarning: Creating an ndarray from ragged nested sequences (which is a list-or-tuple of lists-or-tuples-or ndarrays with different lengths or shapes) is deprecated. If you meant to do this, you must specify 'dtype=object' when creating the ndarray.\n",
      "  return array(a, dtype, copy=False, order=order)\n"
     ]
    },
    {
     "data": {
      "image/png": "[encoded data removed]",
      "text/plain": [
       "<Figure size 432x288 with 1 Axes>"
      ]
     },
     "metadata": {
      "needs_background": "light"
     },
     "output_type": "display_data"
    },
    {
     "name": "stdout",
     "output_type": "stream",
     "text": [
      "Coefficients: \n",
      " [[0.0179949]]\n",
      "Mean squared error: 58.82\n",
      "Coefficient of determination: -0.03\n"
     ]
    },
    {
     "data": {
      "image/png": "[encoded data removed]",
      "text/plain": [
       "<Figure size 432x288 with 1 Axes>"
      ]
     },
     "metadata": {
      "needs_background": "light"
     },
     "output_type": "display_data"
    },
    {
     "name": "stdout",
     "output_type": "stream",
     "text": [
      "Coefficients: \n",
      " [[0.01770644]]\n",
      "Mean squared error: 20.41\n",
      "Coefficient of determination: -0.07\n"
     ]
    },
    {
     "data": {
      "image/png": "[encoded data removed]",
      "text/plain": [
       "<Figure size 432x288 with 1 Axes>"
      ]
     },
     "metadata": {
      "needs_background": "light"
     },
     "output_type": "display_data"
    },
    {
     "name": "stdout",
     "output_type": "stream",
     "text": [
      "Coefficients: \n",
      " [[0.02800398]]\n",
      "Mean squared error: 35.26\n",
      "Coefficient of determination: -0.41\n"
     ]
    },
    {
     "data": {
      "image/png": "[encoded data removed]",
      "text/plain": [
       "<Figure size 432x288 with 1 Axes>"
      ]
     },
     "metadata": {
      "needs_background": "light"
     },
     "output_type": "display_data"
    },
    {
     "name": "stdout",
     "output_type": "stream",
     "text": [
      "Coefficients: \n",
      " [[0.02374911]]\n",
      "Mean squared error: 70.76\n",
      "Coefficient of determination: -0.11\n"
     ]
    },
    {
     "data": {
      "image/png": "[encoded data removed]",
      "text/plain": [
       "<Figure size 432x288 with 1 Axes>"
      ]
     },
     "metadata": {
      "needs_background": "light"
     },
     "output_type": "display_data"
    },
    {
     "name": "stdout",
     "output_type": "stream",
     "text": [
      "Coefficients: \n",
      " [[-0.01177024]]\n",
      "Mean squared error: 35.24\n",
      "Coefficient of determination: -0.33\n"
     ]
    },
    {
     "data": {
      "image/png": "[encoded data removed]",
      "text/plain": [
       "<Figure size 432x288 with 1 Axes>"
      ]
     },
     "metadata": {
      "needs_background": "light"
     },
     "output_type": "display_data"
    },
    {
     "name": "stdout",
     "output_type": "stream",
     "text": [
      "Coefficients: \n",
      " [[-0.01180197]]\n",
      "Mean squared error: 27.42\n",
      "Coefficient of determination: -0.50\n"
     ]
    },
    {
     "data": {
      "image/png": "[encoded data removed]",
      "text/plain": [
       "<Figure size 432x288 with 1 Axes>"
      ]
     },
     "metadata": {
      "needs_background": "light"
     },
     "output_type": "display_data"
    },
    {
     "name": "stdout",
     "output_type": "stream",
     "text": [
      "Coefficients: \n",
      " [[0.02190862]]\n",
      "Mean squared error: 25.80\n",
      "Coefficient of determination: -0.20\n"
     ]
    },
    {
     "data": {
      "image/png": "[encoded data removed]",
      "text/plain": [
       "<Figure size 432x288 with 1 Axes>"
      ]
     },
     "metadata": {
      "needs_background": "light"
     },
     "output_type": "display_data"
    },
    {
     "name": "stdout",
     "output_type": "stream",
     "text": [
      "Coefficients: \n",
      " [[0.02278697]]\n",
      "Mean squared error: 25.94\n",
      "Coefficient of determination: -0.13\n"
     ]
    },
    {
     "data": {
      "image/png": "[encoded data removed]",
      "text/plain": [
       "<Figure size 432x288 with 1 Axes>"
      ]
     },
     "metadata": {
      "needs_background": "light"
     },
     "output_type": "display_data"
    },
    {
     "name": "stdout",
     "output_type": "stream",
     "text": [
      "Coefficients: \n",
      " [[-0.01812847]]\n",
      "Mean squared error: 34.99\n",
      "Coefficient of determination: -0.88\n",
      "                        coef        mse        r2\n",
      "0  [[-0.012170114719250167]]  39.397264 -0.299621\n",
      "1   [[0.017994900397848117]]  58.816682 -0.027026\n",
      "2   [[0.017706438884582846]]  20.411525 -0.070891\n",
      "3    [[0.02800398010454447]]  35.257941 -0.410078\n",
      "4   [[0.023749111334455824]]  70.763816 -0.107690\n",
      "5  [[-0.011770242055769209]]  35.237218 -0.330830\n",
      "6  [[-0.011801972558031872]]  27.419412 -0.504628\n",
      "7   [[0.021908624491624444]]  25.796700 -0.200334\n",
      "8    [[0.02278697444161384]]  25.938773 -0.125263\n",
      "9  [[-0.018128473593345282]]  34.988126 -0.878086\n"
     ]
    }
   ],
   "source": [
    "from sklearn.model_selection import train_test_split\n",
    "import matplotlib.pyplot as plt\n",
    "import numpy as np\n",
    "from sklearn import datasets, linear_model\n",
    "from sklearn.metrics import mean_squared_error, r2_score\n",
    "\n",
    "# Create dataframe to store coefficient, mean squared error, and r2\n",
    "rev_results = pd.DataFrame.from_dict({\"coef\": [], \"mse\": [], \"r2\": []})\n",
    "\n",
    "for x in range(10):\n",
    "    # Create test and train sets\n",
    "    rev_train, rev_test, price_train, price_test = train_test_split(revdata.iloc[:, 0], revdata.iloc[:, 1], test_size=0.3)\n",
    "\n",
    "    # Reformat test and train sets\n",
    "    rev_train = rev_train.to_frame()\n",
    "    price_train = price_train.to_frame()\n",
    "    rev_test = rev_test.to_frame()\n",
    "    price_test = price_test.to_frame()\n",
    "\n",
    "    # Create linear regression model\n",
    "    regr = linear_model.LinearRegression()\n",
    "    regr.fit(rev_train, price_train)\n",
    "\n",
    "    # Make predictions using the testing set\n",
    "    price_pred = regr.predict(rev_test)\n",
    "\n",
    "    # Create plot\n",
    "    plt.scatter(rev_test, price_test)\n",
    "    plt.plot(rev_test, price_pred, color = \"blue\")\n",
    "    plt.xlabel(\"Reported Revenue\")\n",
    "    plt.ylabel(\"Change in Stock Price(%)\")\n",
    "    plt.show()\n",
    "\n",
    "\n",
    "    # Print coefficients, mean squared error, and coefficient of determination (r^2)\n",
    "    rev_results.loc[x] = [regr.coef_, mean_squared_error(price_test, price_pred), r2_score(price_test, price_pred)]\n",
    "    print(\"Coefficients: \\n\", regr.coef_)\n",
    "    print(\"Mean squared error: %.2f\" % mean_squared_error(price_test, price_pred))\n",
    "    print(\"Coefficient of determination: %.2f\" % r2_score(price_test, price_pred))\n",
    "    \n",
    "print(rev_results)"
   ]
  },
  {
   "cell_type": "markdown",
   "id": "ef510934",
   "metadata": {},
   "source": [
    "# Cost of Revenue"
   ]
  },
  {
   "cell_type": "code",
   "execution_count": 60,
   "id": "44084e3a",
   "metadata": {},
   "outputs": [
    {
     "data": {
      "text/html": [
       "<div>\n",
       "<style scoped>\n",
       "    .dataframe tbody tr th:only-of-type {\n",
       "        vertical-align: middle;\n",
       "    }\n",
       "\n",
       "    .dataframe tbody tr th {\n",
       "        vertical-align: top;\n",
       "    }\n",
       "\n",
       "    .dataframe thead th {\n",
       "        text-align: right;\n",
       "    }\n",
       "</style>\n",
       "<table border=\"1\" class=\"dataframe\">\n",
       "  <thead>\n",
       "    <tr style=\"text-align: right;\">\n",
       "      <th></th>\n",
       "      <th>Most Recent Cost of Revenue</th>\n",
       "      <th>price change(%)</th>\n",
       "    </tr>\n",
       "  </thead>\n",
       "  <tbody>\n",
       "    <tr>\n",
       "      <th>AAPL</th>\n",
       "      <td>6.970200e+10</td>\n",
       "      <td>6.977762</td>\n",
       "    </tr>\n",
       "    <tr>\n",
       "      <th>MSFT</th>\n",
       "      <td>1.696000e+10</td>\n",
       "      <td>2.849317</td>\n",
       "    </tr>\n",
       "    <tr>\n",
       "      <th>GOOG</th>\n",
       "      <td>3.298800e+10</td>\n",
       "      <td>7.367353</td>\n",
       "    </tr>\n",
       "    <tr>\n",
       "      <th>AMZN</th>\n",
       "      <td>8.283500e+10</td>\n",
       "      <td>13.535914</td>\n",
       "    </tr>\n",
       "    <tr>\n",
       "      <th>TSLA</th>\n",
       "      <td>1.287200e+10</td>\n",
       "      <td>3.231684</td>\n",
       "    </tr>\n",
       "  </tbody>\n",
       "</table>\n",
       "</div>"
      ],
      "text/plain": [
       "      Most Recent Cost of Revenue  price change(%)\n",
       "AAPL                 6.970200e+10         6.977762\n",
       "MSFT                 1.696000e+10         2.849317\n",
       "GOOG                 3.298800e+10         7.367353\n",
       "AMZN                 8.283500e+10        13.535914\n",
       "TSLA                 1.287200e+10         3.231684"
      ]
     },
     "execution_count": 60,
     "metadata": {},
     "output_type": "execute_result"
    }
   ],
   "source": [
    "CoR = pd.read_csv(r'costOfRevenue.csv')\n",
    "CoRdata = pd.DataFrame.from_dict(CoR.iloc[:, 1]).join(pricedif1)\n",
    "CoRdata.head(5)"
   ]
  },
  {
   "cell_type": "code",
   "execution_count": 65,
   "id": "e432e43a",
   "metadata": {},
   "outputs": [
    {
     "data": {
      "image/png": "[encoded data removed]",
      "text/plain": [
       "<Figure size 432x288 with 1 Axes>"
      ]
     },
     "metadata": {
      "needs_background": "light"
     },
     "output_type": "display_data"
    },
    {
     "name": "stderr",
     "output_type": "stream",
     "text": [
      "C:\\Users\\jexia\\anaconda3\\lib\\site-packages\\numpy\\core\\_asarray.py:102: VisibleDeprecationWarning: Creating an ndarray from ragged nested sequences (which is a list-or-tuple of lists-or-tuples-or ndarrays with different lengths or shapes) is deprecated. If you meant to do this, you must specify 'dtype=object' when creating the ndarray.\n",
      "  return array(a, dtype, copy=False, order=order)\n"
     ]
    },
    {
     "name": "stdout",
     "output_type": "stream",
     "text": [
      "Coefficients: \n",
      " [[1.45297512e-11]]\n",
      "Mean squared error: 24.38\n",
      "Coefficient of determination: 0.08\n"
     ]
    },
    {
     "data": {
      "image/png": "[encoded data removed]",
      "text/plain": [
       "<Figure size 432x288 with 1 Axes>"
      ]
     },
     "metadata": {
      "needs_background": "light"
     },
     "output_type": "display_data"
    },
    {
     "name": "stdout",
     "output_type": "stream",
     "text": [
      "Coefficients: \n",
      " [[5.89922126e-11]]\n",
      "Mean squared error: 19.61\n",
      "Coefficient of determination: -0.09\n"
     ]
    },
    {
     "data": {
      "image/png": "[encoded data removed]",
      "text/plain": [
       "<Figure size 432x288 with 1 Axes>"
      ]
     },
     "metadata": {
      "needs_background": "light"
     },
     "output_type": "display_data"
    },
    {
     "name": "stdout",
     "output_type": "stream",
     "text": [
      "Coefficients: \n",
      " [[6.27919304e-11]]\n",
      "Mean squared error: 16.52\n",
      "Coefficient of determination: -0.43\n"
     ]
    },
    {
     "data": {
      "image/png": "[encoded data removed]",
      "text/plain": [
       "<Figure size 432x288 with 1 Axes>"
      ]
     },
     "metadata": {
      "needs_background": "light"
     },
     "output_type": "display_data"
    },
    {
     "name": "stdout",
     "output_type": "stream",
     "text": [
      "Coefficients: \n",
      " [[6.14428654e-11]]\n",
      "Mean squared error: 26.48\n",
      "Coefficient of determination: -0.17\n"
     ]
    },
    {
     "data": {
      "image/png": "[encoded data removed]",
      "text/plain": [
       "<Figure size 432x288 with 1 Axes>"
      ]
     },
     "metadata": {
      "needs_background": "light"
     },
     "output_type": "display_data"
    },
    {
     "name": "stdout",
     "output_type": "stream",
     "text": [
      "Coefficients: \n",
      " [[2.39644971e-11]]\n",
      "Mean squared error: 28.92\n",
      "Coefficient of determination: -0.04\n"
     ]
    },
    {
     "data": {
      "image/png": "[encoded data removed]",
      "text/plain": [
       "<Figure size 432x288 with 1 Axes>"
      ]
     },
     "metadata": {
      "needs_background": "light"
     },
     "output_type": "display_data"
    },
    {
     "name": "stdout",
     "output_type": "stream",
     "text": [
      "Coefficients: \n",
      " [[1.24640071e-11]]\n",
      "Mean squared error: 37.42\n",
      "Coefficient of determination: 0.04\n"
     ]
    },
    {
     "data": {
      "image/png": "[encoded data removed]",
      "text/plain": [
       "<Figure size 432x288 with 1 Axes>"
      ]
     },
     "metadata": {
      "needs_background": "light"
     },
     "output_type": "display_data"
    },
    {
     "name": "stdout",
     "output_type": "stream",
     "text": [
      "Coefficients: \n",
      " [[3.59530925e-11]]\n",
      "Mean squared error: 28.77\n",
      "Coefficient of determination: -0.03\n"
     ]
    },
    {
     "data": {
      "image/png": "[encoded data removed]",
      "text/plain": [
       "<Figure size 432x288 with 1 Axes>"
      ]
     },
     "metadata": {
      "needs_background": "light"
     },
     "output_type": "display_data"
    },
    {
     "name": "stdout",
     "output_type": "stream",
     "text": [
      "Coefficients: \n",
      " [[3.94897351e-11]]\n",
      "Mean squared error: 13.23\n",
      "Coefficient of determination: 0.10\n"
     ]
    },
    {
     "data": {
      "image/png": "[encoded data removed]",
      "text/plain": [
       "<Figure size 432x288 with 1 Axes>"
      ]
     },
     "metadata": {
      "needs_background": "light"
     },
     "output_type": "display_data"
    },
    {
     "name": "stdout",
     "output_type": "stream",
     "text": [
      "Coefficients: \n",
      " [[6.32676876e-12]]\n",
      "Mean squared error: 20.89\n",
      "Coefficient of determination: -0.17\n"
     ]
    },
    {
     "data": {
      "image/png": "[encoded data removed]",
      "text/plain": [
       "<Figure size 432x288 with 1 Axes>"
      ]
     },
     "metadata": {
      "needs_background": "light"
     },
     "output_type": "display_data"
    },
    {
     "name": "stdout",
     "output_type": "stream",
     "text": [
      "Coefficients: \n",
      " [[4.85528532e-11]]\n",
      "Mean squared error: 9.75\n",
      "Coefficient of determination: -0.09\n",
      "                         coef        mse        r2\n",
      "0  [[1.4529751194274567e-11]]  24.382685  0.075432\n",
      "1    [[5.89922125527476e-11]]  19.608676 -0.092736\n",
      "2    [[6.27919303553591e-11]]  16.524122 -0.434052\n",
      "3   [[6.144286537148861e-11]]  26.483449 -0.174976\n",
      "4  [[2.3964497071598843e-11]]  28.915652 -0.036992\n",
      "5  [[1.2464007086529966e-11]]  37.416314  0.036446\n",
      "6  [[3.5953092450994707e-11]]  28.769561 -0.027795\n",
      "7  [[3.9489735123158895e-11]]  13.226511  0.097429\n",
      "8   [[6.326768760525116e-12]]  20.893023 -0.165832\n",
      "9  [[4.8552853195214775e-11]]   9.745542 -0.086370\n"
     ]
    }
   ],
   "source": [
    "# Create dataframe to store coefficient, mean squared error, and r2\n",
    "CoR_results = pd.DataFrame.from_dict({\"coef\": [], \"mse\": [], \"r2\": []})\n",
    "\n",
    "for x in range(10):\n",
    "    # Create test and train sets\n",
    "    CoR_train, CoR_test, price_train, price_test = train_test_split(CoRdata.iloc[:, 0], CoRdata.iloc[:, 1], test_size=0.3)\n",
    "\n",
    "    # Reformat test and train sets\n",
    "    CoR_train = CoR_train.to_frame()\n",
    "    price_train = price_train.to_frame()\n",
    "    CoR_test = CoR_test.to_frame()\n",
    "    price_test = price_test.to_frame()\n",
    "\n",
    "    # Create linear regression model\n",
    "    regr = linear_model.LinearRegression()\n",
    "    regr.fit(CoR_train, price_train)\n",
    "\n",
    "    # Make predictions using the testing set\n",
    "    price_pred = regr.predict(CoR_test)\n",
    "\n",
    "    # Create plot\n",
    "    plt.scatter(CoR_test, price_test)\n",
    "    plt.plot(CoR_test, price_pred, color = \"blue\")\n",
    "    plt.xlabel(\"ReportedCost of Revenue\")\n",
    "    plt.ylabel(\"Change in Stock Price(%)\")\n",
    "    plt.show()\n",
    "\n",
    "\n",
    "    # Print coefficients, mean squared error, and coefficient of determination (r^2)\n",
    "    CoR_results.loc[x] = [regr.coef_, mean_squared_error(price_test, price_pred), r2_score(price_test, price_pred)]\n",
    "    print(\"Coefficients: \\n\", regr.coef_)\n",
    "    print(\"Mean squared error: %.2f\" % mean_squared_error(price_test, price_pred))\n",
    "    print(\"Coefficient of determination: %.2f\" % r2_score(price_test, price_pred))\n",
    "    \n",
    "print(CoR_results)"
   ]
  },
  {
   "cell_type": "code",
   "execution_count": null,
   "id": "54565860",
   "metadata": {},
   "outputs": [],
   "source": []
  }
 ],
 "metadata": {
  "kernelspec": {
   "display_name": "Python 3 (ipykernel)",
   "language": "python",
   "name": "python3"
  },
  "language_info": {
   "codemirror_mode": {
    "name": "ipython",
    "version": 3
   },
   "file_extension": ".py",
   "mimetype": "text/x-python",
   "name": "python",
   "nbconvert_exporter": "python",
   "pygments_lexer": "ipython3",
   "version": "3.9.7"
  }
 },
 "nbformat": 4,
 "nbformat_minor": 5
}
